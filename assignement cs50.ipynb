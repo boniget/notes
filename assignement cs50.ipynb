{
 "cells": [
  {
   "cell_type": "code",
   "execution_count": 1,
   "metadata": {},
   "outputs": [
    {
     "name": "stdout",
     "output_type": "stream",
     "text": [
      "[103, 117, 114, 32, 110, 97, 102, 106, 114, 101, 32, 118, 102]\n"
     ]
    }
   ],
   "source": [
    "#given string \"gur nafjre vf\", shall find right answer. Intuition - liner relation to alphabet\n",
    "\n",
    "import string \n",
    "#alphabet = string.ascii_lowercase\n",
    "strange_string = 'gur nafjre vf'\n",
    "#strange_string = 'gur'\n",
    "str_index = []\n",
    "\n",
    "for index in range (0, len (strange_string)):\n",
    "    b = ord (str (strange_string [index]))\n",
    "    str_index.append(b)\n",
    "print (str_index)\n"
   ]
  },
  {
   "cell_type": "code",
   "execution_count": 2,
   "metadata": {},
   "outputs": [
    {
     "name": "stdout",
     "output_type": "stream",
     "text": [
      "32\n"
     ]
    }
   ],
   "source": [
    "print (ord (' '))"
   ]
  },
  {
   "cell_type": "code",
   "execution_count": 3,
   "metadata": {},
   "outputs": [
    {
     "name": "stdout",
     "output_type": "stream",
     "text": [
      "hvs obgksf wg\n",
      "iwt pchltg xh\n",
      "jxu qdimuh yi\n",
      "kyv rejnvi zj\n",
      "lzw sfkowj ak\n",
      "max tglpxk bl\n",
      "nby uhmqyl cm\n",
      "ocz vinrzm dn\n",
      "pda wjosan eo\n",
      "qeb xkptbo fp\n",
      "rfc ylqucp gq\n",
      "sgd zmrvdq hr\n",
      "the answer is\n",
      "uif botxfs jt\n",
      "vjg cpuygt ku\n",
      "wkh dqvzhu lv\n",
      "xli erwaiv mw\n",
      "ymj fsxbjw nx\n",
      "znk gtyckx oy\n",
      "aol huzdly pz\n",
      "bpm ivaemz qa\n",
      "cqn jwbfna rb\n",
      "dro kxcgob sc\n",
      "esp lydhpc td\n",
      "ftq mzeiqd ue\n"
     ]
    }
   ],
   "source": [
    "a = ord ('a')\n",
    "z = ord ('z')\n",
    "\n",
    "\n",
    "for i in range (1,26):\n",
    "    new_str = []      \n",
    "    for j in range (0, len (strange_string)):\n",
    "            if str_index [j] == 32:\n",
    "                    c = 32\n",
    "            else:\n",
    "                c = str_index [j] + i \n",
    "                if c > z: c = (c - z - 1) + a\n",
    "            \n",
    "            new_str.append (chr (c))\n",
    "           \n",
    "\n",
    "    print (''.join(new_str))  "
   ]
  },
  {
   "cell_type": "code",
   "execution_count": null,
   "metadata": {},
   "outputs": [],
   "source": []
  }
 ],
 "metadata": {
  "kernelspec": {
   "display_name": "Python 3",
   "language": "python",
   "name": "python3"
  },
  "language_info": {
   "codemirror_mode": {
    "name": "ipython",
    "version": 3
   },
   "file_extension": ".py",
   "mimetype": "text/x-python",
   "name": "python",
   "nbconvert_exporter": "python",
   "pygments_lexer": "ipython3",
   "version": "3.7.1"
  }
 },
 "nbformat": 4,
 "nbformat_minor": 2
}
